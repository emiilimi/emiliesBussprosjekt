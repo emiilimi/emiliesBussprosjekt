{
 "cells": [
  {
   "cell_type": "code",
   "execution_count": 2,
   "metadata": {},
   "outputs": [],
   "source": [
    "import matplotlib.pyplot as plt\n",
    "import pandas as pd\n",
    "import numpy as np\n",
    "from ipywidgets import interact, widgets, Layout\n",
    "\n",
    "stoppested=pd.read_csv(\"stops.txt\", header=0, sep=\",\")\n",
    "def finnNavn(stop_id):\n",
    "    return stoppested[stoppested[\"stop_id\"]==stop_id][\"stop_name\"].values[0]\n",
    "\n",
    "##Leser inn datasett\n",
    "df4=pd.read_csv(\"4eren_uke5.csv\", header=0)\n",
    "\n",
    "##konverterer tider til datetime\n",
    "df4[\"departureTime\"] = pd.to_datetime(df4[\"departureTime\"])\n",
    "df4[\"arrivalTime\"] = pd.to_datetime(df4[\"arrivalTime\"])\n",
    "df4[\"aimedArrivalTime\"] = pd.to_datetime(df4[\"aimedArrivalTime\"])\n",
    "df4[\"aimedDepartureTime\"] = pd.to_datetime(df4[\"aimedDepartureTime\"])\n",
    "df4[\"operatingDate\"] = pd.to_datetime(df4[\"operatingDate\"])\n",
    "\n",
    "\n",
    "## legger til avvik\n",
    "df4[\"delayArrival\"]=df4[\"arrivalTime\"]-df4[\"aimedArrivalTime\"] # for første stopp i ruten vil denne være NaT\n",
    "df4[\"delayDeparture\"]=df4[\"departureTime\"]-df4[\"aimedDepartureTime\"] # for siste stopp i ruten vil denne være NaT\n",
    "\n",
    "##legger til rutetidUtenDato: (altså forventet avgangsttid, hvis den er null så forventet ankomststid (siste stopp i ruten))\n",
    "df4[\"rutetidUtenDato\"] = np.where(\n",
    "    pd.isnull(df4[\"aimedDepartureTime\"]),\n",
    "    df4[\"aimedArrivalTime\"].dt.time,\n",
    "    df4[\"aimedDepartureTime\"].dt.time\n",
    ")\n",
    "\n",
    "\n",
    "\n"
   ]
  },
  {
   "cell_type": "code",
   "execution_count": null,
   "metadata": {},
   "outputs": [
    {
     "data": {
      "application/vnd.jupyter.widget-view+json": {
       "model_id": "71f2f58b54424afc9814837926eae8f6",
       "version_major": 2,
       "version_minor": 0
      },
      "text/plain": [
       "interactive(children=(IntSlider(value=0, description='i', layout=Layout(width='500px'), max=476), Output()), _…"
      ]
     },
     "metadata": {},
     "output_type": "display_data"
    },
    {
     "data": {
      "text/plain": [
       "<function __main__.plottAvgang(i)>"
      ]
     },
     "execution_count": 3,
     "metadata": {},
     "output_type": "execute_result"
    }
   ],
   "source": [
    "df6 = df4.copy()\n",
    "df6.dropna(subset=[\"delayDeparture\", \"delayArrival\"], how='all', inplace=True) \n",
    "df6.sort_values(by=[\"aimedArrivalTime\"], inplace=True)  \n",
    "alle_avganger = df6[\"serviceJourneyId\"].unique()\n",
    "test_avganger = alle_avganger[:10]\n",
    "maxindex = len(alle_avganger)-1\n",
    "##print(maxindex)\n",
    "\n",
    "def plottAvgang(i):\n",
    "    serviceJourneyId=alle_avganger[i]\n",
    "    avgang=df4[df4[\"serviceJourneyId\"]==serviceJourneyId] #henter ut en enkeltavgang\n",
    "    avgang=avgang[[\"stopPointRef\",\"delayDeparture\",\"sequenceNr\",\"rutetidUtenDato\"]].groupby(\"sequenceNr\").agg({\"delayDeparture\":['max','mean','min'],\"stopPointRef\":\"first\", \"rutetidUtenDato\":\"first\"}).reset_index()#grupperer avgangen etter stopp langs ruten, der sequencenr gir rekkefølgen på stoppene\n",
    "    avgang.columns=[\"sequenceNr\",\"maxDelayDeparture\",\"meanDelayDeparture\",\"minDelayDeparture\",\"stopPointRef\",\"rutetidUtenDato\"]\n",
    "    avgang[\"maxDelayDeparture\"]=avgang[\"maxDelayDeparture\"].dt.total_seconds()/60#konverterer til minutter\n",
    "    avgang[\"meanDelayDeparture\"]=avgang[\"meanDelayDeparture\"].dt.total_seconds()/60\n",
    "    avgang[\"minDelayDeparture\"]=avgang[\"minDelayDeparture\"].dt.total_seconds()/60\n",
    "\n",
    "    ##legger til navn på stoppested\n",
    "    avgang[\"stopName\"]=avgang[\"stopPointRef\"].apply(finnNavn)\n",
    "    \n",
    "\n",
    "    xverdier=avgang[\"sequenceNr\"]\n",
    "\n",
    "    avgang[\"label\"]=avgang.apply(lambda row: f\"{row['rutetidUtenDato']} - {row['stopName']}\", axis=1)\n",
    "    print(\"Avgang: \",avgang[\"label\"].values[0],\" til \",avgang[\"label\"].values[-1])\n",
    "    \n",
    "    plt.plot(xverdier,avgang[\"meanDelayDeparture\"], label=\"meanDelayDeparture\")\n",
    "    plt.plot(xverdier,avgang[\"maxDelayDeparture\"], label=\"maxDelayDeparture\")\n",
    "    plt.plot(xverdier,avgang[\"minDelayDeparture\"], label=\"minDelayDeparture\")\n",
    "    plt.legend()\n",
    "    plt.xlabel(\"Stopp\")\n",
    "    plt.xticks(labels=avgang[\"label\"], ticks=xverdier, rotation=85)\n",
    "    plt.ylabel(\"Forsinkelse\")\n",
    "    plt.title(\"Forsinkelse per stopp på avgang \"+serviceJourneyId)\n",
    "    plt.axhline(y=0, color='r', linestyle='--')\n",
    "    plt.show\n",
    "    \n",
    "\n",
    "interact(plottAvgang,i= widgets.IntSlider(value=0, min=0, max=maxindex,step=1,layout=Layout(width='500px')), continuous_update=False)\n",
    "\n"
   ]
  }
 ],
 "metadata": {
  "kernelspec": {
   "display_name": ".venv",
   "language": "python",
   "name": "python3"
  },
  "language_info": {
   "codemirror_mode": {
    "name": "ipython",
    "version": 3
   },
   "file_extension": ".py",
   "mimetype": "text/x-python",
   "name": "python",
   "nbconvert_exporter": "python",
   "pygments_lexer": "ipython3",
   "version": "3.12.5"
  }
 },
 "nbformat": 4,
 "nbformat_minor": 2
}
