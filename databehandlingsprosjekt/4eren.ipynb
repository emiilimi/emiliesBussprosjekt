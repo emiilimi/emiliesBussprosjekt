{
 "cells": [
  {
   "cell_type": "code",
   "execution_count": null,
   "metadata": {},
   "outputs": [
    {
     "name": "stdout",
     "output_type": "stream",
     "text": [
      "      lineRef    stopPointRef serviceJourneyId aimedDepartureTime  \\\n",
      "0  SKY:Line:4  NSR:Quay:53799  18186256_186816                NaT   \n",
      "1  SKY:Line:4  NSR:Quay:53799  18186303_186816                NaT   \n",
      "2  SKY:Line:4  NSR:Quay:53799  18186261_186816                NaT   \n",
      "3  SKY:Line:4  NSR:Quay:55873  18186188_186816                NaT   \n",
      "4  SKY:Line:4  NSR:Quay:53799  18186273_186816                NaT   \n",
      "\n",
      "  departureTime          aimedArrivalTime               arrivalTime  \\\n",
      "0           NaT 2025-01-27 14:11:00+00:00 2025-01-27 14:08:58+00:00   \n",
      "1           NaT 2025-01-27 18:54:00+00:00 2025-01-27 18:54:24+00:00   \n",
      "2           NaT 2025-01-27 15:01:00+00:00 2025-01-27 15:09:25+00:00   \n",
      "3           NaT 2025-01-27 17:46:00+00:00 2025-01-27 17:50:57+00:00   \n",
      "4           NaT 2025-01-27 17:07:00+00:00 2025-01-27 17:04:29+00:00   \n",
      "\n",
      "   dayOfTheWeek operatingDate  directionRef  sequenceNr      delayArrival  \\\n",
      "0             1    2025-01-27             2          40 -1 days +23:57:58   \n",
      "1             1    2025-01-27             2          40   0 days 00:00:24   \n",
      "2             1    2025-01-27             2          40   0 days 00:08:25   \n",
      "3             1    2025-01-27             1          41   0 days 00:04:57   \n",
      "4             1    2025-01-27             2          40 -1 days +23:57:29   \n",
      "\n",
      "  delayDeparture rutetidUtenDato  \n",
      "0            NaT        14:11:00  \n",
      "1            NaT        18:54:00  \n",
      "2            NaT        15:01:00  \n",
      "3            NaT        17:46:00  \n",
      "4            NaT        17:07:00  \n",
      "(52991, 14)\n",
      "<class 'pandas.core.frame.DataFrame'>\n",
      "RangeIndex: 52991 entries, 0 to 52990\n",
      "Data columns (total 14 columns):\n",
      " #   Column              Non-Null Count  Dtype              \n",
      "---  ------              --------------  -----              \n",
      " 0   lineRef             52991 non-null  object             \n",
      " 1   stopPointRef        52991 non-null  object             \n",
      " 2   serviceJourneyId    52991 non-null  object             \n",
      " 3   aimedDepartureTime  51683 non-null  datetime64[ns, UTC]\n",
      " 4   departureTime       49167 non-null  datetime64[ns, UTC]\n",
      " 5   aimedArrivalTime    51683 non-null  datetime64[ns, UTC]\n",
      " 6   arrivalTime         47773 non-null  datetime64[ns, UTC]\n",
      " 7   dayOfTheWeek        52991 non-null  int64              \n",
      " 8   operatingDate       52991 non-null  datetime64[ns]     \n",
      " 9   directionRef        52991 non-null  int64              \n",
      " 10  sequenceNr          52991 non-null  int64              \n",
      " 11  delayArrival        47773 non-null  timedelta64[ns]    \n",
      " 12  delayDeparture      49167 non-null  timedelta64[ns]    \n",
      " 13  rutetidUtenDato     52991 non-null  object             \n",
      "dtypes: datetime64[ns, UTC](4), datetime64[ns](1), int64(3), object(4), timedelta64[ns](2)\n",
      "memory usage: 5.7+ MB\n",
      "None\n"
     ]
    }
   ],
   "source": [
    "import pandas as pd\n",
    "import numpy as np\n",
    "##Leser inn datasett\n",
    "df4=pd.read_csv(\"4eren_uke5.csv\", header=0)\n",
    "\n",
    "##konverterer tider til datetime\n",
    "df4[\"departureTime\"] = pd.to_datetime(df4[\"departureTime\"])\n",
    "df4[\"arrivalTime\"] = pd.to_datetime(df4[\"arrivalTime\"])\n",
    "df4[\"aimedArrivalTime\"] = pd.to_datetime(df4[\"aimedArrivalTime\"])\n",
    "df4[\"aimedDepartureTime\"] = pd.to_datetime(df4[\"aimedDepartureTime\"])\n",
    "df4[\"operatingDate\"] = pd.to_datetime(df4[\"operatingDate\"])\n",
    "\n",
    "\n",
    "## legger til avvik\n",
    "df4[\"delayArrival\"]=df4[\"arrivalTime\"]-df4[\"aimedArrivalTime\"]\n",
    "df4[\"delayDeparture\"]=df4[\"departureTime\"]-df4[\"aimedDepartureTime\"]\n",
    "\n",
    "##legger til rutetidUtenDato: (altså forventet ankomsttid, hvis den er null så forventet avgangstid (første stopp i ruten))\n",
    "df4[\"rutetidUtenDato\"] = np.where(\n",
    "    pd.isnull(df4[\"aimedArrivalTime\"]),\n",
    "    df4[\"aimedDepartureTime\"].dt.time,\n",
    "    df4[\"aimedArrivalTime\"].dt.time\n",
    ")\n",
    "\n",
    "print(df4.head(5))\n",
    "print(df4.shape)\n",
    "print(df4.info())\n"
   ]
  },
  {
   "cell_type": "markdown",
   "metadata": {},
   "source": [
    "Her ser vi kjernestrukturen i datasettet, med et par ekstra kolonner jeg legger til for nettopp det jeg ønsker å undersøke. Må deale med tidsobjekter, har knotet litt her. \n",
    "\n",
    "| begrep   | forklaring |\n",
    "| -------- | ---------- |\n",
    "| lineRef  | referanse til linjen, syntaks \"SKY:Line:{linjenummer}\"|\n",
    "| stopPointRef | referanse til stopp. Refererer til konkret platform (eks Fyllingsdalen terminal C). syntaks \"NSR:Quay:{idnummer}\". Kan søkes opp på https://stoppested.entur.org/  |\n",
    "| serviceJourneyId   |  id tilknyttet bussavgang. syntaks: {langt tall1}-{langt tall2}, der tall2 er likt for hele linjen. id vil være lik for hver bussavgang (altså f.eks 7.30 avgangen hverdager, men ikke nødvendigvis 7.30 lørdag. Har ikke 100% oversikt her)   |\n",
    "|aimedDepartureTime| rutetabellbestemt avgangstid til gitt stopp. syntaks: datetimeobj (?),2025-01-27 14:11:00+00:00. Nullobj: NaT |\n",
    "|departureTime| faktisk avgangstid fra det stoppet|\n",
    "|aimedArrivalTime| rutetabellbestemt ankomsttid til gitt stopp. syntaks: datetimeobj (?),2025-01-27 14:11:00+00:00. Nullobj: NaT |\n",
    "|arrivalTime| faktisk ankomsttid til det stoppet, syntaks: datetimeobj (?),2025-01-27 14:11:00+00:00. Nullobj: NaT |\n",
    "|dayOfTheWeek| ukedag, representert med et tall fra 1-7, der 1 er mandag og 7 er søndag|\n",
    "|operatingDate| hvilken dag bussen kjører på. litt usikker på hvor grensen går for avganger som går over midnatt, omdenne endres underveis i ruten eller gjelder for hele avgangen. Definert som \"date of the vehicle journey\"|\n",
    "|directionRef| enten 1 eller 2, (outbound eller inbound)|\n",
    "|sequenceNr| nr i rekkefølge av stopp, men om de er i riktig rekkefølge er usikkert. undersøk!|\n",
    "|delayArrival| utregnet avvik ved ankomst, syntaks: samme som tidligere|\n",
    "|delayDeparture|utregnet avvik ved avgang, syntaks: samme som tidligere|\n",
    "|ruteTidUtenDato| klokkeslett for avgang (har senere funnet ut at denne går en time for seint), uten dato. For enklere plotting. Syntaks: hh:mm:ss|\n",
    "|stopName| OBS: Legges til lenger nede i notebooken. Navnet til stoppestedet, hentes fra rutetabellfil stops.txt (hentet fra entur en gang for lenge siden)|\n"
   ]
  },
  {
   "cell_type": "code",
   "execution_count": 44,
   "metadata": {},
   "outputs": [
    {
     "name": "stdout",
     "output_type": "stream",
     "text": [
      "Empty DataFrame\n",
      "Columns: []\n",
      "Index: [17907469_184346, 17907470_184346, 17907471_184346, 17907472_184346, 17907473_184346, 17907474_184346, 17907475_184346, 17907476_184346, 17907477_184346, 17907478_184346]\n"
     ]
    }
   ],
   "source": [
    "##Finner de 10 største forsinkelsene\n",
    "toppliste = df4.sort_values(by=\"delayArrival\", ascending=False).head(10)\n",
    "#print(toppliste[[\"serviceJourneyId\", \"stopPointRef\", \"delayArrival\", \"delayDeparture\", \"aimedDepartureTime\"]])\n",
    "\n",
    "##Finner de 10 mest forsinkede avgangene\n",
    "toppliste_avgang = df4[[\"serviceJourneyId\", \"delayDeparture\", \"stopPointRef\"]].groupby('serviceJourneyId').max(numeric_only=True)\n",
    "print(toppliste_avgang.head(10))"
   ]
  },
  {
   "cell_type": "code",
   "execution_count": 93,
   "metadata": {},
   "outputs": [
    {
     "name": "stdout",
     "output_type": "stream",
     "text": [
      "    sequenceNr              delayDeparture    stopPointRef  \\\n",
      "25          27   0 days 00:06:11.837704918  NSR:Quay:53425   \n",
      "26          28   0 days 00:05:56.821428571  NSR:Quay:53429   \n",
      "20          22   0 days 00:05:53.752459016  NSR:Quay:53263   \n",
      "29          31   0 days 00:05:47.141924959  NSR:Quay:49579   \n",
      "27          29   0 days 00:05:45.870192307  NSR:Quay:53434   \n",
      "2            4   0 days 00:00:21.746503496  NSR:Quay:55859   \n",
      "0            2   0 days 00:00:21.430335097  NSR:Quay:55869   \n",
      "12          14   0 days 00:00:14.401976935  NSR:Quay:53230   \n",
      "1            3   0 days 00:00:11.582914572  NSR:Quay:55863   \n",
      "11          13 -1 days +23:59:44.717105264  NSR:Quay:54807   \n",
      "\n",
      "                 delayString    stopPointName  \n",
      "25   6.0 min, 11.84 sekunder  Rollandskrysset  \n",
      "26   5.0 min, 56.82 sekunder   Litleåskrysset  \n",
      "20   5.0 min, 53.75 sekunder        Munkebotn  \n",
      "29   5.0 min, 47.14 sekunder       Gullgruven  \n",
      "27   5.0 min, 45.87 sekunder    Salhuskrysset  \n",
      "2    0.0 min, 21.75 sekunder        Myrholtet  \n",
      "0    0.0 min, 21.43 sekunder   Allestadhaugen  \n",
      "12    0.0 min, 14.4 sekunder       Møhlenpris  \n",
      "1    0.0 min, 11.58 sekunder    Allestadveien  \n",
      "11  0.0 min, -15.28 sekunder       Gyldenpris  \n"
     ]
    }
   ],
   "source": [
    "df3=df4.copy()\n",
    "import math\n",
    "\n",
    "##fjerner rader med null\n",
    "df3=df3.dropna()\n",
    "##avgrenser til kun en retning\n",
    "#df3=df3[df3[\"directionRef\"]==1]\n",
    "\n",
    "##print(df3.head(5))\n",
    "##df group by stop point ref, mean delay\n",
    "# mean_delay = df3[[\"sequenceNr\", \"stopPointRef\", \"delayDeparture\"]].groupby(\"sequenceNr\").agg({\"delayDeparture\":\"mean\", \"stopPointRef\":\"first\"}).reset_index()\n",
    "# mean_delay = mean_delay.sort_values(by=\"delayDeparture\", ascending=False)\n",
    "# størsteAvvik=mean_delay.head(5)\n",
    "# minsteAvvik=mean_delay.tail(5)\n",
    "\n",
    "##henter inn navnene til stoppene\n",
    "stoppested=pd.read_csv(\"stops.txt\", header=0, sep=\",\")\n",
    "def finnNavn(stop_id):\n",
    "    return stoppested[stoppested[\"stop_id\"]==stop_id][\"stop_name\"].values[0]\n",
    "\n",
    "# print(finnNavn(\"NSR:Quay:53425\"))\n",
    "# print(stoppested.head(5))\n",
    "\n",
    "#litt finere formatering av tiden\n",
    "def stringFormatering(delayDeparture):\n",
    "    if (delayDeparture.total_seconds()//60) < 0:\n",
    "        return f\"{delayDeparture.total_seconds()//60+1} min, {round(delayDeparture.total_seconds()%60-60,2)} sekunder\"\n",
    "    else:\n",
    "        return f\"{delayDeparture.total_seconds()//60} min, {round(delayDeparture.total_seconds()%60,2)} sekunder\"\n",
    "\n",
    "\n",
    "##henter ut de 5 største og 5 minste avvikene\n",
    "def get_maxminverdier(df):\n",
    "    df2=df.copy().dropna()\n",
    "    mean_delay = df2[[\"sequenceNr\", \"stopPointRef\", \"delayDeparture\"]].groupby(\"sequenceNr\").agg({\"delayDeparture\":\"mean\", \"stopPointRef\":\"first\"}).reset_index()\n",
    "    mean_delay = mean_delay.sort_values(by=\"delayDeparture\", ascending=False)\n",
    "    størsteAvvik=mean_delay.head(5)\n",
    "    minsteAvvik=mean_delay.tail(5)\n",
    "    returndf=pd.concat([størsteAvvik, minsteAvvik])\n",
    "    returndf[\"delayString\"]=returndf[\"delayDeparture\"].apply(stringFormatering)\n",
    "    returndf[\"stopPointName\"]=returndf[\"stopPointRef\"].apply(finnNavn)\n",
    "    return returndf\n",
    "\n",
    "#print(get_maxminverdier(df3[df3[\"directionRef\"]==1]))\n",
    "print(get_maxminverdier(df3[df3[\"directionRef\"]==2]))\n",
    "\n"
   ]
  },
  {
   "cell_type": "markdown",
   "metadata": {},
   "source": [
    "Hvor kommer kjerreidviken fra????????????\n",
    "LA oss undersøke"
   ]
  },
  {
   "cell_type": "code",
   "execution_count": null,
   "metadata": {},
   "outputs": [
    {
     "name": "stdout",
     "output_type": "stream",
     "text": [
      "          lineRef    stopPointRef serviceJourneyId        aimedDepartureTime  \\\n",
      "41779  SKY:Line:4  NSR:Quay:54992  18186322_186816 2025-02-01 02:36:00+00:00   \n",
      "49234  SKY:Line:4  NSR:Quay:54992  17907647_184346 2025-02-02 02:34:00+00:00   \n",
      "\n",
      "                  departureTime          aimedArrivalTime  \\\n",
      "41779 2025-02-01 02:30:41+00:00 2025-02-01 02:36:00+00:00   \n",
      "49234 2025-02-02 02:37:19+00:00 2025-02-02 02:34:00+00:00   \n",
      "\n",
      "                    arrivalTime  dayOfTheWeek operatingDate  directionRef  \\\n",
      "41779 2025-02-01 02:30:41+00:00             5    2025-01-31             1   \n",
      "49234 2025-02-02 02:37:17+00:00             6    2025-02-01             1   \n",
      "\n",
      "       sequenceNr      delayArrival    delayDeparture rutetidUtenDato  \n",
      "41779          47 -1 days +23:54:41 -1 days +23:54:41        02:36:00  \n",
      "49234          47   0 days 00:03:17   0 days 00:03:19        02:34:00  \n",
      "(2, 14)\n"
     ]
    }
   ],
   "source": [
    "##sjekke hvilke avganger vi har fra kjerreidviken (som ikke egentlig er en holdeplass)\n",
    "avgangerKjerreidviken=df3[df3[\"stopPointRef\"]==\"NSR:Quay:54992\"]\n",
    "print(avgangerKjerreidviken.head(5))\n",
    "print(avgangerKjerreidviken.shape)\n",
    "#det viser seg at 4-eren stopper i kjerrreidviken, men bare på nattavgangene."
   ]
  },
  {
   "cell_type": "markdown",
   "metadata": {},
   "source": [
    "Det viser seg at 4-eren stopper i Kjerreidviken på nattavganger, sjekker dette med reiseplanlegger og finner avgangene 03.36 og 03.34. HAr dermed avdekket en times feil i rutetidUtenDato, whoops"
   ]
  },
  {
   "cell_type": "markdown",
   "metadata": {},
   "source": []
  }
 ],
 "metadata": {
  "kernelspec": {
   "display_name": ".venv",
   "language": "python",
   "name": "python3"
  },
  "language_info": {
   "codemirror_mode": {
    "name": "ipython",
    "version": 3
   },
   "file_extension": ".py",
   "mimetype": "text/x-python",
   "name": "python",
   "nbconvert_exporter": "python",
   "pygments_lexer": "ipython3",
   "version": "3.12.5"
  }
 },
 "nbformat": 4,
 "nbformat_minor": 2
}
